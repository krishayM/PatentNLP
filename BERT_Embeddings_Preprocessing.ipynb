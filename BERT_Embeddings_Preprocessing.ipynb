{
  "nbformat": 4,
  "nbformat_minor": 0,
  "metadata": {
    "colab": {
      "name": "BERT_Embeddings/Preprocessing.ipynb",
      "provenance": [],
      "collapsed_sections": [],
      "machine_shape": "hm"
    },
    "kernelspec": {
      "display_name": "Python 3",
      "name": "python3"
    },
    "language_info": {
      "name": "python"
    },
    "accelerator": "GPU"
  },
  "cells": [
    {
      "cell_type": "code",
      "metadata": {
        "id": "9jMPgqDwb5dH"
      },
      "source": [
        "!git clone https://github.com/lo1gr/medical_document_clustering"
      ],
      "execution_count": null,
      "outputs": []
    },
    {
      "cell_type": "code",
      "metadata": {
        "id": "abHAsFwNeRAh"
      },
      "source": [
        "from google.colab import drive\n",
        "drive.mount('/content/drive')"
      ],
      "execution_count": null,
      "outputs": []
    },
    {
      "cell_type": "code",
      "metadata": {
        "id": "b5ESacudeZ1m"
      },
      "source": [
        "import pickle\n",
        "patents2017 = pickle.load( open( \"/content/drive/My Drive/2017Pharma.pkl\", \"rb\" ) )"
      ],
      "execution_count": null,
      "outputs": []
    },
    {
      "cell_type": "code",
      "metadata": {
        "id": "NhInYWzdf0G2"
      },
      "source": [
        "import pandas as pd\n",
        "\n",
        "data_items = patents2017.items()\n",
        "data_list = list(data_items)\n",
        "\n",
        "df = pd.DataFrame(data_list)\n",
        "\n",
        "df.head()"
      ],
      "execution_count": null,
      "outputs": []
    },
    {
      "cell_type": "code",
      "metadata": {
        "id": "1CsRKyW9rxeT"
      },
      "source": [
        "print(df.shape)"
      ],
      "execution_count": null,
      "outputs": []
    },
    {
      "cell_type": "code",
      "metadata": {
        "id": "835SQIuTsGtO"
      },
      "source": [
        "df.columns = [\"id\",\"description\"]"
      ],
      "execution_count": null,
      "outputs": []
    },
    {
      "cell_type": "code",
      "metadata": {
        "id": "e3J7uuHpsczt"
      },
      "source": [
        "df.head()"
      ],
      "execution_count": null,
      "outputs": []
    },
    {
      "cell_type": "code",
      "metadata": {
        "id": "-gQF23ElmpZY"
      },
      "source": [
        "df.to_excel('/content/drive/My Drive/patents2017CSV2.xlsx')"
      ],
      "execution_count": null,
      "outputs": []
    },
    {
      "cell_type": "code",
      "metadata": {
        "id": "skmyVuQhjHI-"
      },
      "source": [
        "import pandas as pd\n",
        "df = pd.read_excel('/content/drive/My Drive/patents2017CSV2.xlsx')"
      ],
      "execution_count": null,
      "outputs": []
    },
    {
      "cell_type": "code",
      "metadata": {
        "id": "Oii2CyU5kDlp"
      },
      "source": [
        "df.drop(df.columns[0], axis=1, inplace=True)"
      ],
      "execution_count": null,
      "outputs": []
    },
    {
      "cell_type": "code",
      "metadata": {
        "id": "lB-wsBVyjP-8"
      },
      "source": [
        "df.head()"
      ],
      "execution_count": null,
      "outputs": []
    },
    {
      "cell_type": "code",
      "metadata": {
        "id": "WrvpD1BxjZTf"
      },
      "source": [
        "# Import stopwords with nltk.\n",
        "\n",
        "import nltk\n",
        "import re\n",
        "from nltk.corpus import stopwords\n"
      ],
      "execution_count": null,
      "outputs": []
    },
    {
      "cell_type": "code",
      "metadata": {
        "id": "RzM2VumQfwwA"
      },
      "source": [
        "stop = stopwords.words('english')\n",
        "stop.append('\\n')\n",
        "print(stop)"
      ],
      "execution_count": null,
      "outputs": []
    },
    {
      "cell_type": "code",
      "metadata": {
        "id": "E8mtnV2rljzz"
      },
      "source": [
        "print(df)"
      ],
      "execution_count": null,
      "outputs": []
    },
    {
      "cell_type": "code",
      "metadata": {
        "id": "5p9-ZPYxk7Ab"
      },
      "source": [
        "# Exclude stopwords with Python's list comprehension and pandas.DataFrame.apply.\n",
        "df['desc_no_stopwords'] = df['description'].apply(lambda x: ' '.join([word for word in x.split() if word not in (stop)]))\n",
        "df.head()"
      ],
      "execution_count": null,
      "outputs": []
    },
    {
      "cell_type": "code",
      "metadata": {
        "id": "MIORmrYHgiOv"
      },
      "source": [
        "df.to_excel('/content/drive/My Drive/patents2017CSVNoStopwords.xlsx')"
      ],
      "execution_count": null,
      "outputs": []
    },
    {
      "cell_type": "code",
      "metadata": {
        "id": "qQeeflfB68pC"
      },
      "source": [
        "print(df['desc_no_stopwords'])"
      ],
      "execution_count": null,
      "outputs": []
    },
    {
      "cell_type": "code",
      "metadata": {
        "id": "gw2tG7tUlOD3"
      },
      "source": [
        "df['desc_no_stopwords'].to_csv('/content/drive/My Drive/patents2017DescOnlyNoStopwords.csv')\n",
        "df['desc_no_stopwords'].to_csv('/content/drive/My Drive/patents2017DescOnlyNoStopwordsNoNumbers.csv', index=False)"
      ],
      "execution_count": null,
      "outputs": []
    },
    {
      "cell_type": "code",
      "metadata": {
        "id": "walEAU63pjzB"
      },
      "source": [
        "df['desc_no_stopwords'].to_csv('/content/drive/My Drive/patents2017DescOnlyNoStopwordsNoNumbers.csv', index=False)"
      ],
      "execution_count": null,
      "outputs": []
    },
    {
      "cell_type": "code",
      "metadata": {
        "id": "14kg6Q6uoVsB"
      },
      "source": [
        "!git clone https://github.com/lo1gr/medical_document_clustering.git"
      ],
      "execution_count": null,
      "outputs": []
    },
    {
      "cell_type": "code",
      "metadata": {
        "colab": {
          "base_uri": "https://localhost:8080/"
        },
        "id": "JHXmTmaPs2Rp",
        "outputId": "9912c886-c31c-4be3-d0f0-0a4ace3f6a83"
      },
      "source": [
        "print(\"hello\")"
      ],
      "execution_count": null,
      "outputs": [
        {
          "output_type": "stream",
          "text": [
            "hello\n"
          ],
          "name": "stdout"
        }
      ]
    },
    {
      "cell_type": "code",
      "metadata": {
        "id": "Qup-9cf1s3vt"
      },
      "source": [
        "# Libraries\n",
        "import pandas as pd"
      ],
      "execution_count": null,
      "outputs": []
    },
    {
      "cell_type": "code",
      "metadata": {
        "id": "Olm_45XXxdsF"
      },
      "source": [
        "!pip install bert-embedding"
      ],
      "execution_count": null,
      "outputs": []
    },
    {
      "cell_type": "code",
      "metadata": {
        "id": "j6P8gKrM14s1"
      },
      "source": [
        "from drive.MyDrive.medical_document_clustering.embeddings import Bert, BioWordVec, ELMo, GoogleSentence, Word2Vec"
      ],
      "execution_count": null,
      "outputs": []
    },
    {
      "cell_type": "code",
      "metadata": {
        "id": "YE_OMdE7x69f"
      },
      "source": [
        "#from drive.MyDrive.medical_document_clustering.repository.preprocessing import launch_preprocessing"
      ],
      "execution_count": null,
      "outputs": []
    },
    {
      "cell_type": "code",
      "metadata": {
        "id": "ljlcARXa6DaK"
      },
      "source": [
        "from drive.MyDrive.medical_document_clustering.modeling import KMeansModel, DBSCANModel, AffinityPropagationModel, BirchModel, OPTICSModel, ClusterLabelsCombiner"
      ],
      "execution_count": null,
      "outputs": []
    },
    {
      "cell_type": "code",
      "metadata": {
        "id": "bV6Zn6gO6pqr"
      },
      "source": [
        "random_state = 42"
      ],
      "execution_count": null,
      "outputs": []
    },
    {
      "cell_type": "code",
      "metadata": {
        "id": "TdjD6XGT7VSS"
      },
      "source": [
        "#abstracts_path='/content/drive/My Drive/patents2017DescOnlyNoStopwordsNoNumbers.csv'"
      ],
      "execution_count": null,
      "outputs": []
    },
    {
      "cell_type": "code",
      "metadata": {
        "id": "AYB4iipg7mP6"
      },
      "source": [
        "def embed_abstracts(abstracts, embedding_type):\n",
        "\n",
        "    model = None\n",
        "\n",
        "    if embedding_type == \"word2vec\":\n",
        "        model = Word2Vec()\n",
        "        vectors, output_format = model.embed_text(abstracts.nouns_lemmatized_text)\n",
        "\n",
        "    elif embedding_type == \"biowordvec\":\n",
        "        model = BioWordVec()\n",
        "        vectors, output_format = model.embed_text(abstracts.nouns_lemmatized_text)\n",
        "\n",
        "    elif embedding_type == \"google_sentence\":\n",
        "        model = GoogleSentence()\n",
        "        vectors, output_format = model.embed_text(abstracts.sentence_tokens)\n",
        "\n",
        "    elif embedding_type == \"elmo\":\n",
        "        model = ELMo()\n",
        "        vectors, output_format = model.embed_text(abstracts.nouns_lemmatized_text.apply(\" \".join))\n",
        "\n",
        "    elif embedding_type == \"bert\":\n",
        "        model = Bert()\n",
        "        vectors, output_format = model.embed_text(abstracts.nouns_lemmatized_text.apply(\" \".join))\n",
        "\n",
        "    else:\n",
        "        raise Exception(\"Embedding type should be word2vec, biowordvec, google_sentence, elmo or bert\")\n",
        "\n",
        "    return vectors, output_format, model\n"
      ],
      "execution_count": null,
      "outputs": []
    },
    {
      "cell_type": "code",
      "metadata": {
        "id": "t4diBQqe7pAd"
      },
      "source": [
        "import pandas as pd"
      ],
      "execution_count": null,
      "outputs": []
    },
    {
      "cell_type": "code",
      "metadata": {
        "id": "wEBgm8lpi7az"
      },
      "source": [
        "abstracts = pd.read_excel('/content/drive/My Drive/patents2017CSVNoStopwords.xlsx')"
      ],
      "execution_count": null,
      "outputs": []
    },
    {
      "cell_type": "code",
      "metadata": {
        "id": "HdzUQsioBR_X"
      },
      "source": [
        "abstracts.drop(abstracts.columns[0], axis=1, inplace=True)"
      ],
      "execution_count": null,
      "outputs": []
    },
    {
      "cell_type": "code",
      "metadata": {
        "id": "tbWqXb-dBaIe"
      },
      "source": [
        "abstracts.drop(abstracts.columns[1], axis=1, inplace=True)"
      ],
      "execution_count": null,
      "outputs": []
    },
    {
      "cell_type": "code",
      "metadata": {
        "id": "AIJ1u4PpBfAx"
      },
      "source": [
        "abstracts.head()"
      ],
      "execution_count": null,
      "outputs": []
    },
    {
      "cell_type": "code",
      "metadata": {
        "id": "oChmQ0HoEBpv"
      },
      "source": [
        "abstracts.rename(columns={\"desc_no_stopwords\": \"text\", \"id\":\"title\"})"
      ],
      "execution_count": null,
      "outputs": []
    },
    {
      "cell_type": "code",
      "metadata": {
        "id": "44zUbYpeEmAb"
      },
      "source": [
        "abstracts2 = abstracts[abstracts.columns[[1,0]]]"
      ],
      "execution_count": null,
      "outputs": []
    },
    {
      "cell_type": "code",
      "metadata": {
        "id": "uSuTL-4RFAs5"
      },
      "source": [
        "abstracts = abstracts2"
      ],
      "execution_count": null,
      "outputs": []
    },
    {
      "cell_type": "code",
      "metadata": {
        "id": "iLWtRT-SFCb_"
      },
      "source": [
        "abstracts.head()"
      ],
      "execution_count": null,
      "outputs": []
    },
    {
      "cell_type": "code",
      "metadata": {
        "id": "enwAtUrXFFv7"
      },
      "source": [
        "abstracts = abstracts.rename(columns={\"desc_no_stopwords\": \"text\", \"id\":\"title\"})"
      ],
      "execution_count": null,
      "outputs": []
    },
    {
      "cell_type": "code",
      "metadata": {
        "id": "O68bK4HanaCl"
      },
      "source": [
        "print(\"hello\")"
      ],
      "execution_count": null,
      "outputs": []
    },
    {
      "cell_type": "code",
      "metadata": {
        "id": "zEggvyBuma7g"
      },
      "source": [
        "[1]*10**10"
      ],
      "execution_count": null,
      "outputs": []
    },
    {
      "cell_type": "code",
      "metadata": {
        "id": "yhfMQrKFLudr"
      },
      "source": [
        "abstracts = pd.read_excel('/content/drive/My Drive/patentsFinalDataClustering.xlsx')"
      ],
      "execution_count": null,
      "outputs": []
    },
    {
      "cell_type": "code",
      "metadata": {
        "id": "pmH_XtOoFSHH"
      },
      "source": [
        "abstracts.head()"
      ],
      "execution_count": null,
      "outputs": []
    },
    {
      "cell_type": "code",
      "metadata": {
        "id": "Ost1iUdOxusf"
      },
      "source": [
        "#abstracts.to_excel(r'/content/drive/My Drive/patentsFinalDataClustering.xlsx', index = False)"
      ],
      "execution_count": null,
      "outputs": []
    },
    {
      "cell_type": "code",
      "metadata": {
        "id": "AuTspgqhFi6L"
      },
      "source": [
        "import nltk\n",
        "nltk.download('punkt')\n",
        "nltk.download('stopwords')\n",
        "nltk.download('wordnet')\n",
        "nltk.download('averaged_perceptron_tagger')"
      ],
      "execution_count": null,
      "outputs": []
    },
    {
      "cell_type": "code",
      "metadata": {
        "id": "JAfLqQGqJEPe"
      },
      "source": [
        "#abstracts = launch_preprocessing(abstracts)"
      ],
      "execution_count": null,
      "outputs": []
    },
    {
      "cell_type": "code",
      "metadata": {
        "id": "RJwnQRnEVrlX"
      },
      "source": [
        "# Libraries\n",
        "\n",
        "import pandas as pd\n",
        "import nltk\n",
        "from nltk.tokenize import word_tokenize\n",
        "from nltk.tokenize import sent_tokenize\n",
        "from nltk.corpus import stopwords\n",
        "from nltk.tokenize.treebank import TreebankWordDetokenizer\n",
        "import pandas as pd\n",
        "import os\n",
        "from nltk import sent_tokenize, word_tokenize\n",
        "from nltk.stem import WordNetLemmatizer\n",
        "from nltk.tag import pos_tag\n",
        "\n",
        "\n",
        "# Mandatory downloads\n",
        "\n",
        "\n",
        "def nltk_package_downloads():\n",
        "    \"\"\"\n",
        "    function that calls necessary downloads\n",
        "    \"\"\"\n",
        "    nltk.download('punkt')\n",
        "    nltk.download('stopwords')\n",
        "    nltk.download('wordnet')\n",
        "\n",
        "\n",
        "def stopword_list(prep_type):\n",
        "    \"\"\"\n",
        "    :param prep_type: a string containing the type of preproceesing, i.e. \"title\" or \"text\"\n",
        "    :return: a list with stopwords\n",
        "    \"\"\"\n",
        "    # stopwords + lowercase\n",
        "    normal_stopwords = [\"a\", \"the\"]\n",
        "\n",
        "    #     import more extensive stopwords + convert to list the first column\n",
        "    comprehensive_stopwords = pd.read_csv('/content/drive/MyDrive/medical_document_clustering/stopwords/stopwords-en.txt', header=None)[0].tolist()\n",
        "\n",
        "    #     potential further stopwords (will have to test that)\n",
        "    special_medical = [\"complex\", \"patients\", \"treatment\", \"months\",\n",
        "                       \"rate\", \"prevalence\", \"case\", \"early\", \"management\", \"data\", \"factors\",\n",
        "                       \"reported\", \"information\", \"baseline\", \"study\", \"questionnaire\", \"results\", \"month\", \"months\",\n",
        "                       \"years\", \"year\", \"status\", \"type\", \"cells\", \"cell\", \"nan\",\n",
        "                        \"among\", \"clinical\", \"associated\", \"hospital\", \"care\", \"age\", \"iii\", \" \", \"  \",\n",
        "                       \"january\", \"february\", \"march\", \"april\", \"may\", \"june\", \"july\", \"august\", \"september\", \"october\",\n",
        "                       \"november\", \"december\"]\n",
        "\n",
        "    if prep_type == \"text\":\n",
        "        stopW = normal_stopwords + comprehensive_stopwords + special_medical\n",
        "        # for the title, we also want to remove individual special words\n",
        "    else:\n",
        "        stopW = normal_stopwords + special_medical + comprehensive_stopwords\n",
        "\n",
        "    return stopW\n",
        "\n",
        "\n",
        "# word preprocessing\n",
        "def preprocessing_sentence(column):\n",
        "    \"\"\"\n",
        "    :param column: column to preprocess\n",
        "    :return: a pre-processed column\n",
        "    \"\"\"\n",
        "\n",
        "    # Tokenization\n",
        "    tokens = sent_tokenize(str(column))\n",
        "\n",
        "    tokens = [token.lower().strip() for token in tokens]\n",
        "\n",
        "    # Deleting specific characters\n",
        "    special_characters = [\"@\", \"/\", \"#\", \".\", \",\", \"!\", \"?\", \"(\", \")\",\n",
        "                          \"-\", \"_\", \"’\", \"'\", \"\\\"\", \":\", \"=\", \"+\", \"&\",\n",
        "                          \"`\", \"*\", \"0\", \"1\", \"2\", \"3\", \"4\", \"5\",\n",
        "                          \"6\", \"7\", \"8\", \"9\", \"'\", '.', '‘', ';', \"%\"]\n",
        "    transformation_sc_dict = {initial: \"\" for initial in special_characters}\n",
        "    tokens = [token.translate(str.maketrans(transformation_sc_dict)) for token in tokens]\n",
        "    return \".\".join(tokens)\n",
        "\n",
        "\n",
        "def preprocessing_words(column, prep_type):\n",
        "    \"\"\"\n",
        "    :param column: column to preprocess\n",
        "    :param prep_type: a string containing the type of preprocessing, i.e. \"title\" or \"text\"\n",
        "    :return: a pre-processed column\n",
        "    \"\"\"\n",
        "\n",
        "    # Tokenization\n",
        "    tokens = word_tokenize(str(column))\n",
        "\n",
        "    # Deleting words with  only one or 2 caracter\n",
        "    tokens = [token.strip() for token in tokens if len(token.strip()) > 3 and token.find(' ') == -1 and token.find('  ') == -1]\n",
        "\n",
        "\n",
        "    # Deleting specific characters\n",
        "    special_characters = [\"@\", \"/\", \"#\", \".\", \",\", \"!\", \"?\", \"(\", \")\",\n",
        "                          \"-\", \"_\", \"’\", \"'\", \"\\\"\", \":\", \"=\", \"+\", \"&\",\n",
        "                          \"`\", \"*\", \"0\", \"1\", \"2\", \"3\", \"4\", \"5\",\n",
        "                          \"6\", \"7\", \"8\", \"9\", \"'\", '.', '‘', ';', '\\t']\n",
        "    transformation_sc_dict = {initial: \" \" for initial in special_characters}\n",
        "    tokens = [token.translate(str.maketrans(transformation_sc_dict)) for token in tokens]\n",
        "\n",
        "    # deleting stopwords\n",
        "    stopW = stopword_list(prep_type)\n",
        "\n",
        "    tokens = [token.lower() for token in tokens if token.lower() not in stopW]\n",
        "    return tokens\n",
        "\n",
        "\n",
        "def lemmatization(tokenized_column):\n",
        "    \"\"\"\n",
        "    :param tokenized_column: a column of a dataframe that is tokenized\n",
        "    :return: lemmatized list\n",
        "    \"\"\"\n",
        "    # Lemmatization:\n",
        "    wnl = WordNetLemmatizer()\n",
        "\n",
        "    tags = [pos_tag(token) for token in tokenized_column]\n",
        "    # initialized lemmatizred list:\n",
        "    lemmatized = []\n",
        "    nouns_list = []\n",
        "\n",
        "    for list in tags:\n",
        "        # initialize empty intermediary liust\n",
        "        result = []\n",
        "        nouns = []\n",
        "        for word, tag in list:\n",
        "            if word != '    ' and word != '     ' and word != ' ' and word != '  ' and\\\n",
        "                    word != 'p       ' and word!= 'p     ' and word != 'p    ' and word != 'p   ':\n",
        "                if tag.startswith(\"NN\"):\n",
        "                    result.append(wnl.lemmatize(word, pos='n'))\n",
        "                    nouns.append(wnl.lemmatize(word, pos='n'))\n",
        "                elif tag.startswith(\"VB\"):\n",
        "                    result.append(wnl.lemmatize(word, pos='v'))\n",
        "                elif tag.startswith(\"JJ\"):\n",
        "                    result.append(wnl.lemmatize(word, pos='a'))\n",
        "                    nouns.append(wnl.lemmatize(word, pos='a'))\n",
        "                elif tag.startswith(\"R\"):\n",
        "                    result.append(wnl.lemmatize(word, pos='r'))\n",
        "                else:\n",
        "                    result.append(word)\n",
        "        lemmatized.append(result)\n",
        "        nouns_list.append(nouns)\n",
        "\n",
        "    return lemmatized, nouns_list\n",
        "\n",
        "\n",
        "def detokenize(df_tokens, name_token_column):\n",
        "    \"\"\"\n",
        "    :param df_tokens: dataframe with a tokenized column that will be detokenized\n",
        "    :param name_token_column: string with the name of the column holding the tokenized data\n",
        "    :return: the same dataframe with an additional detokenized column called \"detokenized\"\n",
        "    the detokenization turns [early, phase, trials, institut, oncology] into early phase therapeutic trials oncology\n",
        "    \"\"\"\n",
        "    df_tokens[\"detokenized\"] = df_tokens[name_token_column].apply(TreebankWordDetokenizer().detokenize)\n",
        "    return df_tokens\n",
        "\n",
        "\n",
        "def launch_preprocessing2(df):\n",
        "    \"\"\"\n",
        "    :return: a dataframe containing a title and a text column with strings that will be preprocessed (standard NLP preprocessing)\n",
        "    :return: a preproceessed data frame\n",
        "    \"\"\"\n",
        "    df = df.rename(columns={\"Tiltle\": \"title\"})\n",
        "    df = df.dropna(subset=['text', 'title'])\n",
        "\n",
        "    df[\"word_tokens\"] = df[\"text\"].apply(preprocessing_words, args=[\"text\"])\n",
        "    df[\"sentence_tokens\"] = df[\"text\"].apply(preprocessing_sentence)\n",
        "    df[\"title_clean\"] = df[\"title\"].apply(preprocessing_words, args=[\"title\"])\n",
        "\n",
        "    #lemmatize:\n",
        "    df[\"word_tokens_lemmatized\"], df[\"nouns_lemmatized_text\"] = lemmatization(df[\"word_tokens\"])\n",
        "    df[\"title_clean_lemmatized\"], df[\"nouns_lemmatized_title\"] = lemmatization(df[\"title_clean\"])\n",
        "\n",
        "    final = detokenize(df, \"word_tokens\")\n",
        "\n",
        "    return final\n",
        "\n",
        "\n",
        "# comprehensive_stopwords = pd.read_csv('stopwords/stopwords-en.txt', header=None)[0].tolist()\n",
        "\n",
        "# comprehensive_stopwords\n",
        "\n",
        "\n",
        "def load_data(abstracts_path, with_preprocess=True):\n",
        "    \"\"\"\n",
        "    :param abstracts_path: Path to preprocessed or not abstracts dataset\n",
        "    :param with_preprocess: Boolean to specify if we should apply preprocess pipeline\n",
        "    :return: abstracts dataset preprocessed\n",
        "    \"\"\"\n",
        "    abstracts = pd.read_excel(abstracts_path)\n",
        "\n",
        "    if with_preprocess:\n",
        "\n",
        "        abstracts = launch_preprocessing(abstracts)\n",
        "\n",
        "    return abstracts\n",
        "\n",
        "\n",
        "\n",
        "#abstracts = pd.read_excel('data/CS2_Article_Clustering.xlsx', index=False)\n",
        "#abstracts = launch_preprocessing(abstracts)\n",
        "\n",
        "# abstracts.to_csv('data/abstracts_preproc.csv', index=False)"
      ],
      "execution_count": null,
      "outputs": []
    },
    {
      "cell_type": "code",
      "metadata": {
        "id": "SEDOTDSwVxTB"
      },
      "source": [
        "abstracts = launch_preprocessing2(abstracts)"
      ],
      "execution_count": null,
      "outputs": []
    },
    {
      "cell_type": "code",
      "metadata": {
        "id": "_lwB4sNHgUo1"
      },
      "source": [
        "abstracts.head()"
      ],
      "execution_count": null,
      "outputs": []
    },
    {
      "cell_type": "code",
      "metadata": {
        "id": "VG59I-o1k53x"
      },
      "source": [
        "abstracts.head()"
      ],
      "execution_count": null,
      "outputs": []
    },
    {
      "cell_type": "code",
      "metadata": {
        "id": "N1k4wzLBjPiw"
      },
      "source": [
        "abstracts.to_pickle(\"/content/drive/My Drive/patentsFinalDataClusteringLemmatized.pkl\")"
      ],
      "execution_count": null,
      "outputs": []
    },
    {
      "cell_type": "code",
      "metadata": {
        "id": "o5nbTOfpoQ--"
      },
      "source": [
        "import pandas as pd"
      ],
      "execution_count": null,
      "outputs": []
    },
    {
      "cell_type": "code",
      "metadata": {
        "id": "44FQ2xtDoAq4"
      },
      "source": [
        "abstracts = pd.read_pickle(\"/content/drive/My Drive/patentsFinalDataClusteringLemmatized.pkl\")"
      ],
      "execution_count": null,
      "outputs": []
    },
    {
      "cell_type": "code",
      "metadata": {
        "id": "6MLO1wNaTL1Z"
      },
      "source": [
        "abstracts2 = pd.read_pickle(\"/content/drive/MyDrive/claims_p.pkl\")"
      ],
      "execution_count": null,
      "outputs": []
    },
    {
      "cell_type": "code",
      "metadata": {
        "id": "gzZktloHUfXj"
      },
      "source": [
        "abstracts2.head()"
      ],
      "execution_count": null,
      "outputs": []
    },
    {
      "cell_type": "code",
      "metadata": {
        "colab": {
          "base_uri": "https://localhost:8080/",
          "height": 564
        },
        "id": "hXIuFtF3odEh",
        "outputId": "e3cc4dc3-5d94-4f04-b0cb-fc729968a67d"
      },
      "source": [
        "abstracts.head()"
      ],
      "execution_count": null,
      "outputs": [
        {
          "output_type": "execute_result",
          "data": {
            "text/html": [
              "<div>\n",
              "<style scoped>\n",
              "    .dataframe tbody tr th:only-of-type {\n",
              "        vertical-align: middle;\n",
              "    }\n",
              "\n",
              "    .dataframe tbody tr th {\n",
              "        vertical-align: top;\n",
              "    }\n",
              "\n",
              "    .dataframe thead th {\n",
              "        text-align: right;\n",
              "    }\n",
              "</style>\n",
              "<table border=\"1\" class=\"dataframe\">\n",
              "  <thead>\n",
              "    <tr style=\"text-align: right;\">\n",
              "      <th></th>\n",
              "      <th>text</th>\n",
              "      <th>title</th>\n",
              "      <th>word_tokens</th>\n",
              "      <th>sentence_tokens</th>\n",
              "      <th>title_clean</th>\n",
              "      <th>word_tokens_lemmatized</th>\n",
              "      <th>nouns_lemmatized_text</th>\n",
              "      <th>title_clean_lemmatized</th>\n",
              "      <th>nouns_lemmatized_title</th>\n",
              "      <th>detokenized</th>\n",
              "    </tr>\n",
              "  </thead>\n",
              "  <tbody>\n",
              "    <tr>\n",
              "      <th>0</th>\n",
              "      <td>DESCRIPTION OF EMBODIMENTS One embodiment pres...</td>\n",
              "      <td>9532519</td>\n",
              "      <td>[description, embodiments, embodiment, referen...</td>\n",
              "      <td>description of embodiments one embodiment pres...</td>\n",
              "      <td>[       ]</td>\n",
              "      <td>[description, embodiment, embodiment, referenc...</td>\n",
              "      <td>[description, embodiment, embodiment, referenc...</td>\n",
              "      <td>[       ]</td>\n",
              "      <td>[       ]</td>\n",
              "      <td>description embodiments embodiment reference a...</td>\n",
              "    </tr>\n",
              "    <tr>\n",
              "      <th>1</th>\n",
              "      <td>The following non-limiting Examples describe u...</td>\n",
              "      <td>9532520</td>\n",
              "      <td>[non limiting, examples, slpp c , genes, modif...</td>\n",
              "      <td>the following nonlimiting examples describe us...</td>\n",
              "      <td>[       ]</td>\n",
              "      <td>[non limiting, example, slpp c , gene, modify,...</td>\n",
              "      <td>[example, gene, plant, phenotype, example, tec...</td>\n",
              "      <td>[       ]</td>\n",
              "      <td>[       ]</td>\n",
              "      <td>non limiting examples slpp c  genes modifying ...</td>\n",
              "    </tr>\n",
              "    <tr>\n",
              "      <th>2</th>\n",
              "      <td>DETAILED DESCRIPTION OF THE INVENTION In one e...</td>\n",
              "      <td>9532523</td>\n",
              "      <td>[detailed, description, embodiment, edible, be...</td>\n",
              "      <td>detailed description of the invention in one e...</td>\n",
              "      <td>[       ]</td>\n",
              "      <td>[detailed, description, embodiment, edible, be...</td>\n",
              "      <td>[detailed, description, embodiment, edible, be...</td>\n",
              "      <td>[       ]</td>\n",
              "      <td>[       ]</td>\n",
              "      <td>detailed description embodiment edible bean de...</td>\n",
              "    </tr>\n",
              "    <tr>\n",
              "      <th>3</th>\n",
              "      <td>DETAILED DESCRIPTION OF THE INVENTION In descr...</td>\n",
              "      <td>9532524</td>\n",
              "      <td>[detailed, description, description, tables, f...</td>\n",
              "      <td>detailed description of the invention in descr...</td>\n",
              "      <td>[       ]</td>\n",
              "      <td>[detailed, description, description, table, fo...</td>\n",
              "      <td>[detailed, description, description, table, te...</td>\n",
              "      <td>[       ]</td>\n",
              "      <td>[       ]</td>\n",
              "      <td>detailed description description tables follow...</td>\n",
              "    </tr>\n",
              "    <tr>\n",
              "      <th>4</th>\n",
              "      <td>DETAILED DESCRIPTION OF THE INVENTION In descr...</td>\n",
              "      <td>9532525</td>\n",
              "      <td>[detailed, description, description, tables, f...</td>\n",
              "      <td>detailed description of the invention in descr...</td>\n",
              "      <td>[       ]</td>\n",
              "      <td>[detailed, description, description, table, fo...</td>\n",
              "      <td>[detailed, description, description, table, te...</td>\n",
              "      <td>[       ]</td>\n",
              "      <td>[       ]</td>\n",
              "      <td>detailed description description tables follow...</td>\n",
              "    </tr>\n",
              "  </tbody>\n",
              "</table>\n",
              "</div>"
            ],
            "text/plain": [
              "                                                text  ...                                        detokenized\n",
              "0  DESCRIPTION OF EMBODIMENTS One embodiment pres...  ...  description embodiments embodiment reference a...\n",
              "1  The following non-limiting Examples describe u...  ...  non limiting examples slpp c  genes modifying ...\n",
              "2  DETAILED DESCRIPTION OF THE INVENTION In one e...  ...  detailed description embodiment edible bean de...\n",
              "3  DETAILED DESCRIPTION OF THE INVENTION In descr...  ...  detailed description description tables follow...\n",
              "4  DETAILED DESCRIPTION OF THE INVENTION In descr...  ...  detailed description description tables follow...\n",
              "\n",
              "[5 rows x 10 columns]"
            ]
          },
          "metadata": {
            "tags": []
          },
          "execution_count": 4
        }
      ]
    },
    {
      "cell_type": "code",
      "metadata": {
        "id": "BXzZdzO2mtUS"
      },
      "source": [
        "# Libraries\n",
        "\n",
        "import pandas as pd\n",
        "import numpy as np\n",
        "from gensim.models.keyedvectors import KeyedVectors\n",
        "from drive.MyDrive.medical_document_clustering.embeddings import embedder as Embedder\n",
        "\n",
        "\n",
        "class BioWordVec(Embedder.embedder):\n",
        "\n",
        "    def __init__(self):\n",
        "        super().__init__('biowordvec')\n",
        "\n",
        "        self.output_format = {\n",
        "            'n_cols': 200\n",
        "        }\n",
        "\n",
        "        self.trained_model = '/content/drive/MyDrive/medical_document_clustering/embeddings/bio_embedding_extrinsic'\n",
        "\n",
        "        self.model = KeyedVectors.load_word2vec_format(self.trained_model, binary=True)\n",
        "\n",
        "    # Core functions\n",
        "\n",
        "    def get_vect(self, word):\n",
        "        \"\"\"\n",
        "        :param word: word to be embedded\n",
        "        :param model: model used to embed a word\n",
        "        :return: word vector\n",
        "        \"\"\"\n",
        "        try:\n",
        "            return self.model.get_vector(word)\n",
        "        except KeyError:\n",
        "            return np.zeros((self.model.vector_size,))\n",
        "\n",
        "    def sum_vectors(self, sentence):\n",
        "        \"\"\"\n",
        "        :param sentence: sentence to be embedded\n",
        "        :param model: model used to embed a word\n",
        "        :return: vector\n",
        "        \"\"\"\n",
        "        return sum(self.get_vect(w) for w in sentence)\n",
        "\n",
        "    def word2vec_features(self, sentences):\n",
        "        \"\"\"\n",
        "        :param sentences: sentences to be embedded\n",
        "        :param model: model used to embed a word\n",
        "        :return: numpy list of list\n",
        "        \"\"\"\n",
        "        feats = np.vstack([self.sum_vectors(p) for p in sentences])\n",
        "        return feats\n",
        "\n",
        "    def embed_text(self, abstracts):\n",
        "        \"\"\"\n",
        "        :param abstracts: pandas Series of abstracts\n",
        "        :param output_format: dict specifying output format of the embedding method\n",
        "        :return: embedding and associated format\n",
        "        \"\"\"\n",
        "\n",
        "        embedding = pd.DataFrame(self.word2vec_features(abstracts))\n",
        "\n",
        "        return embedding, self.output_format\n"
      ],
      "execution_count": null,
      "outputs": []
    },
    {
      "cell_type": "code",
      "metadata": {
        "id": "MpfblQK_Xc6u"
      },
      "source": [
        "trained_model = '/content/drive/MyDrive/medical_document_clustering/embeddings/bio_embedding_extrinsic'"
      ],
      "execution_count": null,
      "outputs": []
    },
    {
      "cell_type": "code",
      "metadata": {
        "id": "UPGD18X3XhfV"
      },
      "source": [
        "model = KeyedVectors.load_word2vec_format(trained_model, binary=True)"
      ],
      "execution_count": null,
      "outputs": []
    },
    {
      "cell_type": "code",
      "metadata": {
        "id": "GXtuKSqvfupP"
      },
      "source": [
        "vectors_biowordvec, output_format_biowordvec, model_biowordvec = embed_abstracts(abstracts, \"biowordvec\")"
      ],
      "execution_count": null,
      "outputs": []
    },
    {
      "cell_type": "code",
      "metadata": {
        "id": "OGnELgykVBJO"
      },
      "source": [
        "vectors_biowordvec.head()"
      ],
      "execution_count": null,
      "outputs": []
    },
    {
      "cell_type": "code",
      "metadata": {
        "id": "_DBF-uKHsDaJ"
      },
      "source": [
        "# Libraries\n",
        "\n",
        "import pandas as pd\n",
        "from bert_embedding import BertEmbedding\n",
        "\n",
        "from drive.MyDrive.medical_document_clustering.embeddings import embedder as Embedder\n",
        "\n",
        "\n",
        "class Bert(Embedder.embedder):\n",
        "\n",
        "    def __init__(self):\n",
        "        super().__init__('bert')\n",
        "\n",
        "        self.output_format = {\n",
        "            'n_cols': 768\n",
        "        }\n",
        "\n",
        "        self.model = BertEmbedding(model='bert_12_768_12', dataset_name='book_corpus_wiki_en_uncased')\n",
        "\n",
        "    # Core functions\n",
        "\n",
        "    def embed_text(self, abstracts):\n",
        "        \"\"\"\n",
        "        :param abstracts: pandas Series of abstracts\n",
        "        :param output_format: dict specifying output format of the embedding method\n",
        "        :return: embedding and associated format\n",
        "        \"\"\"\n",
        "        bert_embedding = self.model.bert(abstracts.tolist())\n",
        "\n",
        "        embedding = []\n",
        "\n",
        "        for _, vectors in bert_embedding:\n",
        "            embedding.append(sum(vectors))\n",
        "\n",
        "        embedding = pd.DataFrame(embedding)\n",
        "\n",
        "        return embedding, self.output_format\n"
      ],
      "execution_count": null,
      "outputs": []
    },
    {
      "cell_type": "code",
      "metadata": {
        "id": "34g6NyCBnSxW"
      },
      "source": [
        "vectors_bert, output_format_bert, model_bert = embed_abstracts(abstracts, \"bert\")"
      ],
      "execution_count": null,
      "outputs": []
    },
    {
      "cell_type": "code",
      "metadata": {
        "id": "aKiq6O2n5jjg"
      },
      "source": [
        "# Libraries\n",
        "import itertools\n",
        "from collections import Counter\n",
        "\n",
        "import pandas as pd\n",
        "import numpy as np\n",
        "import matplotlib.pyplot as plt\n",
        "from sklearn.cluster import KMeans\n",
        "from sklearn.decomposition import PCA\n",
        "from sklearn.preprocessing import StandardScaler\n",
        "from scipy.spatial.distance import cosine\n",
        "\n",
        "\n",
        "class ClusteringModel:\n",
        "\n",
        "    def __init__(self, model_type):\n",
        "        self.model_type = model_type\n",
        "        self.model = KMeans(n_clusters=15)\n",
        "        self.random_state = 42\n",
        "\n",
        "    def set_model_parameters(self, **params):\n",
        "        self.model.set_params(**params)\n",
        "        return self\n",
        "\n",
        "    def perform_clustering(self, features, **params):\n",
        "        self.model.fit(features, **params)\n",
        "\n",
        "        return pd.concat(\n",
        "            [\n",
        "                features,\n",
        "                pd.DataFrame(\n",
        "                    [i for i in self.model.predict(features)],\n",
        "                    columns=('cluster',))\n",
        "            ],\n",
        "            axis=1\n",
        "        )\n",
        "\n",
        "    def label_clusters(self, clusters, abstracts):\n",
        "        \"\"\"\n",
        "        :param clusters: df with clusters\n",
        "        :param abstracts: df with all the information\n",
        "        :return labelled clusters\n",
        "        \"\"\"\n",
        "\n",
        "        clusters[\"nouns_lemmatized_title\"] = abstracts.title\n",
        "        clusters[\"nouns_lemmatized_text\"] = abstracts.nouns_lemmatized_text.values\n",
        "        clusters[\"category\"] = abstracts.title\n",
        "\n",
        "        for k in range(len(pd.unique(clusters.cluster))):\n",
        "            cluster = clusters.loc[clusters.cluster == k, :]\n",
        "            words = [y for x in itertools.chain(cluster.nouns_lemmatized_title) for y in x]\n",
        "            most_common_words = Counter(words).most_common(5)\n",
        "            print(k)\n",
        "            print(most_common_words)\n",
        "            most_common_words = [word[0] for word in most_common_words]\n",
        "            clusters.loc[clusters.cluster == k, 'labels'] = pd.Series([most_common_words] * len(cluster)).values\n",
        "\n",
        "        return clusters\n",
        "\n",
        "    @staticmethod\n",
        "    def evaluate_clusters(embedder, labelled_clusters):\n",
        "\n",
        "        embedded_category = np.array(embedder.embed_text(labelled_clusters.nouns_lemmatized_text)[0])\n",
        "        embedded_labels = np.array(embedder.embed_text(labelled_clusters.labels)[0])\n",
        "\n",
        "        similarity_vector = []\n",
        "\n",
        "        for i in range(len(embedded_labels)):\n",
        "            similarity_vector.append(cosine(embedded_category[i], embedded_labels[i]))\n",
        "\n",
        "        return np.sqrt(sum([a ** 2 for a in similarity_vector]) / len(similarity_vector))\n",
        "\n",
        "    def plot_elbow(self, features, range):\n",
        "        inertia = []\n",
        "\n",
        "        for r in range:\n",
        "            self.model.set_params(n_clusters=r)\n",
        "            self.model.fit(features)\n",
        "            inertia.append(self.model.inertia_)\n",
        "\n",
        "        plt.plot(range, inertia)\n",
        "        plt.show()\n",
        "\n",
        "    def plot_from_pca(self, clusters):\n",
        "        \"\"\"\n",
        "        :param clusters: df with embedded text and associated cluster\n",
        "        :return: clusters plot on two first PCA dimensions\n",
        "        \"\"\"\n",
        "\n",
        "        vectors = clusters.drop([\"cluster\"], axis=1)\n",
        "\n",
        "        pca = pd.DataFrame(PCA(n_components=2, random_state=self.random_state).fit_transform(\n",
        "            StandardScaler().fit_transform(\n",
        "                vectors\n",
        "            )\n",
        "        ), columns=('dim_1', 'dim_2'))\n",
        "\n",
        "        clusters = pd.concat(\n",
        "            [pca, clusters], axis=1\n",
        "        )\n",
        "\n",
        "        plt.scatter(clusters.dim_1, clusters.dim_2, c=clusters.cluster, alpha=0.8)\n",
        "        plt.show()\n",
        "\n",
        "    def nb_categories_in_clusters(self, labelled_clusters):\n",
        "        return len(labelled_clusters.groupby([\"cluster\", \"category\"]).count()) / len(pd.unique(labelled_clusters.cluster))\n",
        "\n",
        "    def concat_clusters_with_abstracts_information(self, clusters, abstracts, columns):\n",
        "        return pd.concat([clusters, abstracts[columns]], axis=1)\n"
      ],
      "execution_count": null,
      "outputs": []
    },
    {
      "cell_type": "code",
      "metadata": {
        "id": "9EnTvG1EudpJ"
      },
      "source": [
        "# Libraries\n",
        "\n",
        "\n",
        "from sklearn.cluster import KMeans\n",
        "\n",
        "\n",
        "class KMeansModel(ClusteringModel):\n",
        "\n",
        "    def __init__(self, n_clusters=15):\n",
        "        super().__init__('kmeans')\n",
        "\n",
        "        self.model = KMeans(n_clusters=n_clusters, random_state=self.random_state)\n"
      ],
      "execution_count": null,
      "outputs": []
    },
    {
      "cell_type": "code",
      "metadata": {
        "colab": {
          "base_uri": "https://localhost:8080/",
          "height": 1000
        },
        "id": "yBKwl7xj5pk7",
        "outputId": "37fe6d99-5821-490f-d592-1ee6dc47374f"
      },
      "source": [
        "n_clusters = 2\n",
        "#try less clusters\n",
        "#2 to distinguish pharma and biotech for the claims data 75k\n",
        "\n",
        "model_kmeans = KMeansModel(n_clusters=n_clusters)\n",
        "\n",
        "model_kmeans.plot_elbow(features=vectors_biowordvec, range=range(10, 40, 2))\n",
        "\n",
        "model_kmeans = model_kmeans.set_model_parameters(n_clusters=n_clusters)\n",
        "clusters = model_kmeans.perform_clustering(features=vectors_biowordvec)\n",
        "model_kmeans.plot_from_pca(clusters=clusters)\n",
        "\n",
        "\n",
        "labelled_clusters = model_kmeans.label_clusters(clusters=clusters, abstracts=abstracts)\n",
        "\n",
        "rmse_kmeans = KMeansModel.evaluate_clusters(embedder=model_biowordvec, labelled_clusters=labelled_clusters)\n",
        "\n",
        "model_kmeans.nb_categories_in_clusters(labelled_clusters=labelled_clusters)"
      ],
      "execution_count": null,
      "outputs": [
        {
          "output_type": "display_data",
          "data": {
            "image/png": "[encoded data removed]",
            "text/plain": [
              "<Figure size 432x288 with 1 Axes>"
            ]
          },
          "metadata": {
            "tags": [],
            "needs_background": "light"
          }
        },
        {
          "output_type": "display_data",
          "data": {
            "image/png": "[encoded data removed]",
            "text/plain": [
              "<Figure size 432x288 with 1 Axes>"
            ]
          },
          "metadata": {
            "tags": [],
            "needs_background": "light"
          }
        },
        {
          "output_type": "error",
          "ename": "TypeError",
          "evalue": "ignored",
          "traceback": [
            "\u001b[0;31m---------------------------------------------------------------------------\u001b[0m",
            "\u001b[0;31mTypeError\u001b[0m                                 Traceback (most recent call last)",
            "\u001b[0;32m<ipython-input-25-336a6d6eacbc>\u001b[0m in \u001b[0;36m<module>\u001b[0;34m()\u001b[0m\n\u001b[1;32m     11\u001b[0m \u001b[0;34m\u001b[0m\u001b[0m\n\u001b[1;32m     12\u001b[0m \u001b[0;34m\u001b[0m\u001b[0m\n\u001b[0;32m---> 13\u001b[0;31m \u001b[0mlabelled_clusters\u001b[0m \u001b[0;34m=\u001b[0m \u001b[0mmodel_kmeans\u001b[0m\u001b[0;34m.\u001b[0m\u001b[0mlabel_clusters\u001b[0m\u001b[0;34m(\u001b[0m\u001b[0mclusters\u001b[0m\u001b[0;34m=\u001b[0m\u001b[0mclusters\u001b[0m\u001b[0;34m,\u001b[0m \u001b[0mabstracts\u001b[0m\u001b[0;34m=\u001b[0m\u001b[0mabstracts\u001b[0m\u001b[0;34m)\u001b[0m\u001b[0;34m\u001b[0m\u001b[0;34m\u001b[0m\u001b[0m\n\u001b[0m\u001b[1;32m     14\u001b[0m \u001b[0;34m\u001b[0m\u001b[0m\n\u001b[1;32m     15\u001b[0m \u001b[0mrmse_kmeans\u001b[0m \u001b[0;34m=\u001b[0m \u001b[0mKMeansModel\u001b[0m\u001b[0;34m.\u001b[0m\u001b[0mevaluate_clusters\u001b[0m\u001b[0;34m(\u001b[0m\u001b[0membedder\u001b[0m\u001b[0;34m=\u001b[0m\u001b[0mmodel_biowordvec\u001b[0m\u001b[0;34m,\u001b[0m \u001b[0mlabelled_clusters\u001b[0m\u001b[0;34m=\u001b[0m\u001b[0mlabelled_clusters\u001b[0m\u001b[0;34m)\u001b[0m\u001b[0;34m\u001b[0m\u001b[0;34m\u001b[0m\u001b[0m\n",
            "\u001b[0;32m<ipython-input-19-f2d33fbe31cc>\u001b[0m in \u001b[0;36mlabel_clusters\u001b[0;34m(self, clusters, abstracts)\u001b[0m\n\u001b[1;32m     49\u001b[0m         \u001b[0;32mfor\u001b[0m \u001b[0mk\u001b[0m \u001b[0;32min\u001b[0m \u001b[0mrange\u001b[0m\u001b[0;34m(\u001b[0m\u001b[0mlen\u001b[0m\u001b[0;34m(\u001b[0m\u001b[0mpd\u001b[0m\u001b[0;34m.\u001b[0m\u001b[0munique\u001b[0m\u001b[0;34m(\u001b[0m\u001b[0mclusters\u001b[0m\u001b[0;34m.\u001b[0m\u001b[0mcluster\u001b[0m\u001b[0;34m)\u001b[0m\u001b[0;34m)\u001b[0m\u001b[0;34m)\u001b[0m\u001b[0;34m:\u001b[0m\u001b[0;34m\u001b[0m\u001b[0;34m\u001b[0m\u001b[0m\n\u001b[1;32m     50\u001b[0m             \u001b[0mcluster\u001b[0m \u001b[0;34m=\u001b[0m \u001b[0mclusters\u001b[0m\u001b[0;34m.\u001b[0m\u001b[0mloc\u001b[0m\u001b[0;34m[\u001b[0m\u001b[0mclusters\u001b[0m\u001b[0;34m.\u001b[0m\u001b[0mcluster\u001b[0m \u001b[0;34m==\u001b[0m \u001b[0mk\u001b[0m\u001b[0;34m,\u001b[0m \u001b[0;34m:\u001b[0m\u001b[0;34m]\u001b[0m\u001b[0;34m\u001b[0m\u001b[0;34m\u001b[0m\u001b[0m\n\u001b[0;32m---> 51\u001b[0;31m             \u001b[0mwords\u001b[0m \u001b[0;34m=\u001b[0m \u001b[0;34m[\u001b[0m\u001b[0my\u001b[0m \u001b[0;32mfor\u001b[0m \u001b[0mx\u001b[0m \u001b[0;32min\u001b[0m \u001b[0mitertools\u001b[0m\u001b[0;34m.\u001b[0m\u001b[0mchain\u001b[0m\u001b[0;34m(\u001b[0m\u001b[0mcluster\u001b[0m\u001b[0;34m.\u001b[0m\u001b[0mnouns_lemmatized_title\u001b[0m\u001b[0;34m)\u001b[0m \u001b[0;32mfor\u001b[0m \u001b[0my\u001b[0m \u001b[0;32min\u001b[0m \u001b[0mx\u001b[0m\u001b[0;34m]\u001b[0m\u001b[0;34m\u001b[0m\u001b[0;34m\u001b[0m\u001b[0m\n\u001b[0m\u001b[1;32m     52\u001b[0m             \u001b[0mmost_common_words\u001b[0m \u001b[0;34m=\u001b[0m \u001b[0mCounter\u001b[0m\u001b[0;34m(\u001b[0m\u001b[0mwords\u001b[0m\u001b[0;34m)\u001b[0m\u001b[0;34m.\u001b[0m\u001b[0mmost_common\u001b[0m\u001b[0;34m(\u001b[0m\u001b[0;36m5\u001b[0m\u001b[0;34m)\u001b[0m\u001b[0;34m\u001b[0m\u001b[0;34m\u001b[0m\u001b[0m\n\u001b[1;32m     53\u001b[0m             \u001b[0mprint\u001b[0m\u001b[0;34m(\u001b[0m\u001b[0mk\u001b[0m\u001b[0;34m)\u001b[0m\u001b[0;34m\u001b[0m\u001b[0;34m\u001b[0m\u001b[0m\n",
            "\u001b[0;32m<ipython-input-19-f2d33fbe31cc>\u001b[0m in \u001b[0;36m<listcomp>\u001b[0;34m(.0)\u001b[0m\n\u001b[1;32m     49\u001b[0m         \u001b[0;32mfor\u001b[0m \u001b[0mk\u001b[0m \u001b[0;32min\u001b[0m \u001b[0mrange\u001b[0m\u001b[0;34m(\u001b[0m\u001b[0mlen\u001b[0m\u001b[0;34m(\u001b[0m\u001b[0mpd\u001b[0m\u001b[0;34m.\u001b[0m\u001b[0munique\u001b[0m\u001b[0;34m(\u001b[0m\u001b[0mclusters\u001b[0m\u001b[0;34m.\u001b[0m\u001b[0mcluster\u001b[0m\u001b[0;34m)\u001b[0m\u001b[0;34m)\u001b[0m\u001b[0;34m)\u001b[0m\u001b[0;34m:\u001b[0m\u001b[0;34m\u001b[0m\u001b[0;34m\u001b[0m\u001b[0m\n\u001b[1;32m     50\u001b[0m             \u001b[0mcluster\u001b[0m \u001b[0;34m=\u001b[0m \u001b[0mclusters\u001b[0m\u001b[0;34m.\u001b[0m\u001b[0mloc\u001b[0m\u001b[0;34m[\u001b[0m\u001b[0mclusters\u001b[0m\u001b[0;34m.\u001b[0m\u001b[0mcluster\u001b[0m \u001b[0;34m==\u001b[0m \u001b[0mk\u001b[0m\u001b[0;34m,\u001b[0m \u001b[0;34m:\u001b[0m\u001b[0;34m]\u001b[0m\u001b[0;34m\u001b[0m\u001b[0;34m\u001b[0m\u001b[0m\n\u001b[0;32m---> 51\u001b[0;31m             \u001b[0mwords\u001b[0m \u001b[0;34m=\u001b[0m \u001b[0;34m[\u001b[0m\u001b[0my\u001b[0m \u001b[0;32mfor\u001b[0m \u001b[0mx\u001b[0m \u001b[0;32min\u001b[0m \u001b[0mitertools\u001b[0m\u001b[0;34m.\u001b[0m\u001b[0mchain\u001b[0m\u001b[0;34m(\u001b[0m\u001b[0mcluster\u001b[0m\u001b[0;34m.\u001b[0m\u001b[0mnouns_lemmatized_title\u001b[0m\u001b[0;34m)\u001b[0m \u001b[0;32mfor\u001b[0m \u001b[0my\u001b[0m \u001b[0;32min\u001b[0m \u001b[0mx\u001b[0m\u001b[0;34m]\u001b[0m\u001b[0;34m\u001b[0m\u001b[0;34m\u001b[0m\u001b[0m\n\u001b[0m\u001b[1;32m     52\u001b[0m             \u001b[0mmost_common_words\u001b[0m \u001b[0;34m=\u001b[0m \u001b[0mCounter\u001b[0m\u001b[0;34m(\u001b[0m\u001b[0mwords\u001b[0m\u001b[0;34m)\u001b[0m\u001b[0;34m.\u001b[0m\u001b[0mmost_common\u001b[0m\u001b[0;34m(\u001b[0m\u001b[0;36m5\u001b[0m\u001b[0;34m)\u001b[0m\u001b[0;34m\u001b[0m\u001b[0;34m\u001b[0m\u001b[0m\n\u001b[1;32m     53\u001b[0m             \u001b[0mprint\u001b[0m\u001b[0;34m(\u001b[0m\u001b[0mk\u001b[0m\u001b[0;34m)\u001b[0m\u001b[0;34m\u001b[0m\u001b[0;34m\u001b[0m\u001b[0m\n",
            "\u001b[0;31mTypeError\u001b[0m: 'int' object is not iterable"
          ]
        }
      ]
    },
    {
      "cell_type": "code",
      "metadata": {
        "colab": {
          "base_uri": "https://localhost:8080/",
          "height": 725
        },
        "id": "WTE_em5PLSKe",
        "outputId": "ed11dfd8-bb4b-4610-adc5-3b0bbe8b9aae"
      },
      "source": [
        "eps = 0.1\n",
        "min_samples = 5\n",
        "\n",
        "model_dbscan = DBSCANModel(eps=eps, min_samples=min_samples, metric=\"cosine\")\n",
        "\n",
        "clusters = model_dbscan.perform_clustering(features=vectors_biowordvec)\n",
        "model_dbscan.plot_from_pca(clusters=clusters)\n",
        "\n",
        "labelled_clusters = model_dbscan.label_clusters(clusters=clusters, abstracts=abstracts)"
      ],
      "execution_count": null,
      "outputs": [
        {
          "output_type": "display_data",
          "data": {
            "image/png": "[encoded data removed]",
            "text/plain": [
              "<Figure size 432x288 with 1 Axes>"
            ]
          },
          "metadata": {
            "tags": [],
            "needs_background": "light"
          }
        },
        {
          "output_type": "error",
          "ename": "AttributeError",
          "evalue": "ignored",
          "traceback": [
            "\u001b[0;31m---------------------------------------------------------------------------\u001b[0m",
            "\u001b[0;31mAttributeError\u001b[0m                            Traceback (most recent call last)",
            "\u001b[0;32m<ipython-input-34-c8ef2c61cd78>\u001b[0m in \u001b[0;36m<module>\u001b[0;34m()\u001b[0m\n\u001b[1;32m      7\u001b[0m \u001b[0mmodel_dbscan\u001b[0m\u001b[0;34m.\u001b[0m\u001b[0mplot_from_pca\u001b[0m\u001b[0;34m(\u001b[0m\u001b[0mclusters\u001b[0m\u001b[0;34m=\u001b[0m\u001b[0mclusters\u001b[0m\u001b[0;34m)\u001b[0m\u001b[0;34m\u001b[0m\u001b[0;34m\u001b[0m\u001b[0m\n\u001b[1;32m      8\u001b[0m \u001b[0;34m\u001b[0m\u001b[0m\n\u001b[0;32m----> 9\u001b[0;31m \u001b[0mlabelled_clusters\u001b[0m \u001b[0;34m=\u001b[0m \u001b[0mmodel_dbscan\u001b[0m\u001b[0;34m.\u001b[0m\u001b[0mlabel_clusters\u001b[0m\u001b[0;34m(\u001b[0m\u001b[0mclusters\u001b[0m\u001b[0;34m=\u001b[0m\u001b[0mclusters\u001b[0m\u001b[0;34m,\u001b[0m \u001b[0mabstracts\u001b[0m\u001b[0;34m=\u001b[0m\u001b[0mabstracts\u001b[0m\u001b[0;34m)\u001b[0m\u001b[0;34m\u001b[0m\u001b[0;34m\u001b[0m\u001b[0m\n\u001b[0m",
            "\u001b[0;32m/content/drive/MyDrive/medical_document_clustering/modeling/clustering_model.py\u001b[0m in \u001b[0;36mlabel_clusters\u001b[0;34m(self, clusters, abstracts)\u001b[0m\n\u001b[1;32m     45\u001b[0m         \u001b[0mclusters\u001b[0m\u001b[0;34m[\u001b[0m\u001b[0;34m\"nouns_lemmatized_title\"\u001b[0m\u001b[0;34m]\u001b[0m \u001b[0;34m=\u001b[0m \u001b[0mabstracts\u001b[0m\u001b[0;34m.\u001b[0m\u001b[0mtitle\u001b[0m\u001b[0;34m\u001b[0m\u001b[0;34m\u001b[0m\u001b[0m\n\u001b[1;32m     46\u001b[0m         \u001b[0mclusters\u001b[0m\u001b[0;34m[\u001b[0m\u001b[0;34m\"nouns_lemmatized_text\"\u001b[0m\u001b[0;34m]\u001b[0m \u001b[0;34m=\u001b[0m \u001b[0mabstracts\u001b[0m\u001b[0;34m.\u001b[0m\u001b[0mnouns_lemmatized_text\u001b[0m\u001b[0;34m.\u001b[0m\u001b[0mvalues\u001b[0m\u001b[0;34m\u001b[0m\u001b[0;34m\u001b[0m\u001b[0m\n\u001b[0;32m---> 47\u001b[0;31m         \u001b[0mclusters\u001b[0m\u001b[0;34m[\u001b[0m\u001b[0;34m\"category\"\u001b[0m\u001b[0;34m]\u001b[0m \u001b[0;34m=\u001b[0m \u001b[0mabstracts\u001b[0m\u001b[0;34m.\u001b[0m\u001b[0mtitle\u001b[0m\u001b[0;34m\u001b[0m\u001b[0;34m\u001b[0m\u001b[0m\n\u001b[0m\u001b[1;32m     48\u001b[0m \u001b[0;34m\u001b[0m\u001b[0m\n\u001b[1;32m     49\u001b[0m         \u001b[0;32mfor\u001b[0m \u001b[0mk\u001b[0m \u001b[0;32min\u001b[0m \u001b[0mrange\u001b[0m\u001b[0;34m(\u001b[0m\u001b[0mlen\u001b[0m\u001b[0;34m(\u001b[0m\u001b[0mpd\u001b[0m\u001b[0;34m.\u001b[0m\u001b[0munique\u001b[0m\u001b[0;34m(\u001b[0m\u001b[0mclusters\u001b[0m\u001b[0;34m.\u001b[0m\u001b[0mcluster\u001b[0m\u001b[0;34m)\u001b[0m\u001b[0;34m)\u001b[0m\u001b[0;34m)\u001b[0m\u001b[0;34m:\u001b[0m\u001b[0;34m\u001b[0m\u001b[0;34m\u001b[0m\u001b[0m\n",
            "\u001b[0;32m/usr/local/lib/python3.7/dist-packages/pandas/core/generic.py\u001b[0m in \u001b[0;36m__getattr__\u001b[0;34m(self, name)\u001b[0m\n\u001b[1;32m   5139\u001b[0m             \u001b[0;32mif\u001b[0m \u001b[0mself\u001b[0m\u001b[0;34m.\u001b[0m\u001b[0m_info_axis\u001b[0m\u001b[0;34m.\u001b[0m\u001b[0m_can_hold_identifiers_and_holds_name\u001b[0m\u001b[0;34m(\u001b[0m\u001b[0mname\u001b[0m\u001b[0;34m)\u001b[0m\u001b[0;34m:\u001b[0m\u001b[0;34m\u001b[0m\u001b[0;34m\u001b[0m\u001b[0m\n\u001b[1;32m   5140\u001b[0m                 \u001b[0;32mreturn\u001b[0m \u001b[0mself\u001b[0m\u001b[0;34m[\u001b[0m\u001b[0mname\u001b[0m\u001b[0;34m]\u001b[0m\u001b[0;34m\u001b[0m\u001b[0;34m\u001b[0m\u001b[0m\n\u001b[0;32m-> 5141\u001b[0;31m             \u001b[0;32mreturn\u001b[0m \u001b[0mobject\u001b[0m\u001b[0;34m.\u001b[0m\u001b[0m__getattribute__\u001b[0m\u001b[0;34m(\u001b[0m\u001b[0mself\u001b[0m\u001b[0;34m,\u001b[0m \u001b[0mname\u001b[0m\u001b[0;34m)\u001b[0m\u001b[0;34m\u001b[0m\u001b[0;34m\u001b[0m\u001b[0m\n\u001b[0m\u001b[1;32m   5142\u001b[0m \u001b[0;34m\u001b[0m\u001b[0m\n\u001b[1;32m   5143\u001b[0m     \u001b[0;32mdef\u001b[0m \u001b[0m__setattr__\u001b[0m\u001b[0;34m(\u001b[0m\u001b[0mself\u001b[0m\u001b[0;34m,\u001b[0m \u001b[0mname\u001b[0m\u001b[0;34m:\u001b[0m \u001b[0mstr\u001b[0m\u001b[0;34m,\u001b[0m \u001b[0mvalue\u001b[0m\u001b[0;34m)\u001b[0m \u001b[0;34m->\u001b[0m \u001b[0;32mNone\u001b[0m\u001b[0;34m:\u001b[0m\u001b[0;34m\u001b[0m\u001b[0;34m\u001b[0m\u001b[0m\n",
            "\u001b[0;31mAttributeError\u001b[0m: 'DataFrame' object has no attribute 'category'"
          ]
        }
      ]
    },
    {
      "cell_type": "code",
      "metadata": {
        "colab": {
          "base_uri": "https://localhost:8080/",
          "height": 589
        },
        "id": "2lvFpoarMa1h",
        "outputId": "edd4ce81-7daa-4bfc-997a-11c10d2e474f"
      },
      "source": [
        "min_samples = 20\n",
        "\n",
        "model_optics = OPTICSModel(min_samples=min_samples,  metric=\"cosine\")\n",
        "\n",
        "clusters = model_optics.perform_clustering(features=vectors_biowordvec)\n",
        "model_optics.plot_from_pca(clusters=clusters)\n",
        "\n",
        "labelled_clusters = model_optics.label_clusters(clusters=clusters, abstracts=abstracts)"
      ],
      "execution_count": null,
      "outputs": [
        {
          "output_type": "display_data",
          "data": {
            "image/png": "[encoded data removed]",
            "text/plain": [
              "<Figure size 432x288 with 1 Axes>"
            ]
          },
          "metadata": {
            "tags": [],
            "needs_background": "light"
          }
        },
        {
          "output_type": "error",
          "ename": "AttributeError",
          "evalue": "ignored",
          "traceback": [
            "\u001b[0;31m---------------------------------------------------------------------------\u001b[0m",
            "\u001b[0;31mAttributeError\u001b[0m                            Traceback (most recent call last)",
            "\u001b[0;32m<ipython-input-35-4448bb4adb32>\u001b[0m in \u001b[0;36m<module>\u001b[0;34m()\u001b[0m\n\u001b[1;32m      6\u001b[0m \u001b[0mmodel_optics\u001b[0m\u001b[0;34m.\u001b[0m\u001b[0mplot_from_pca\u001b[0m\u001b[0;34m(\u001b[0m\u001b[0mclusters\u001b[0m\u001b[0;34m=\u001b[0m\u001b[0mclusters\u001b[0m\u001b[0;34m)\u001b[0m\u001b[0;34m\u001b[0m\u001b[0;34m\u001b[0m\u001b[0m\n\u001b[1;32m      7\u001b[0m \u001b[0;34m\u001b[0m\u001b[0m\n\u001b[0;32m----> 8\u001b[0;31m \u001b[0mlabelled_clusters\u001b[0m \u001b[0;34m=\u001b[0m \u001b[0mmodel_optics\u001b[0m\u001b[0;34m.\u001b[0m\u001b[0mlabel_clusters\u001b[0m\u001b[0;34m(\u001b[0m\u001b[0mclusters\u001b[0m\u001b[0;34m=\u001b[0m\u001b[0mclusters\u001b[0m\u001b[0;34m,\u001b[0m \u001b[0mabstracts\u001b[0m\u001b[0;34m=\u001b[0m\u001b[0mabstracts\u001b[0m\u001b[0;34m)\u001b[0m\u001b[0;34m\u001b[0m\u001b[0;34m\u001b[0m\u001b[0m\n\u001b[0m",
            "\u001b[0;32m/content/drive/MyDrive/medical_document_clustering/modeling/clustering_model.py\u001b[0m in \u001b[0;36mlabel_clusters\u001b[0;34m(self, clusters, abstracts)\u001b[0m\n\u001b[1;32m     45\u001b[0m         \u001b[0mclusters\u001b[0m\u001b[0;34m[\u001b[0m\u001b[0;34m\"nouns_lemmatized_title\"\u001b[0m\u001b[0;34m]\u001b[0m \u001b[0;34m=\u001b[0m \u001b[0mabstracts\u001b[0m\u001b[0;34m.\u001b[0m\u001b[0mtitle\u001b[0m\u001b[0;34m\u001b[0m\u001b[0;34m\u001b[0m\u001b[0m\n\u001b[1;32m     46\u001b[0m         \u001b[0mclusters\u001b[0m\u001b[0;34m[\u001b[0m\u001b[0;34m\"nouns_lemmatized_text\"\u001b[0m\u001b[0;34m]\u001b[0m \u001b[0;34m=\u001b[0m \u001b[0mabstracts\u001b[0m\u001b[0;34m.\u001b[0m\u001b[0mnouns_lemmatized_text\u001b[0m\u001b[0;34m.\u001b[0m\u001b[0mvalues\u001b[0m\u001b[0;34m\u001b[0m\u001b[0;34m\u001b[0m\u001b[0m\n\u001b[0;32m---> 47\u001b[0;31m         \u001b[0mclusters\u001b[0m\u001b[0;34m[\u001b[0m\u001b[0;34m\"category\"\u001b[0m\u001b[0;34m]\u001b[0m \u001b[0;34m=\u001b[0m \u001b[0mabstracts\u001b[0m\u001b[0;34m.\u001b[0m\u001b[0mtitle\u001b[0m\u001b[0;34m\u001b[0m\u001b[0;34m\u001b[0m\u001b[0m\n\u001b[0m\u001b[1;32m     48\u001b[0m \u001b[0;34m\u001b[0m\u001b[0m\n\u001b[1;32m     49\u001b[0m         \u001b[0;32mfor\u001b[0m \u001b[0mk\u001b[0m \u001b[0;32min\u001b[0m \u001b[0mrange\u001b[0m\u001b[0;34m(\u001b[0m\u001b[0mlen\u001b[0m\u001b[0;34m(\u001b[0m\u001b[0mpd\u001b[0m\u001b[0;34m.\u001b[0m\u001b[0munique\u001b[0m\u001b[0;34m(\u001b[0m\u001b[0mclusters\u001b[0m\u001b[0;34m.\u001b[0m\u001b[0mcluster\u001b[0m\u001b[0;34m)\u001b[0m\u001b[0;34m)\u001b[0m\u001b[0;34m)\u001b[0m\u001b[0;34m:\u001b[0m\u001b[0;34m\u001b[0m\u001b[0;34m\u001b[0m\u001b[0m\n",
            "\u001b[0;32m/usr/local/lib/python3.7/dist-packages/pandas/core/generic.py\u001b[0m in \u001b[0;36m__getattr__\u001b[0;34m(self, name)\u001b[0m\n\u001b[1;32m   5139\u001b[0m             \u001b[0;32mif\u001b[0m \u001b[0mself\u001b[0m\u001b[0;34m.\u001b[0m\u001b[0m_info_axis\u001b[0m\u001b[0;34m.\u001b[0m\u001b[0m_can_hold_identifiers_and_holds_name\u001b[0m\u001b[0;34m(\u001b[0m\u001b[0mname\u001b[0m\u001b[0;34m)\u001b[0m\u001b[0;34m:\u001b[0m\u001b[0;34m\u001b[0m\u001b[0;34m\u001b[0m\u001b[0m\n\u001b[1;32m   5140\u001b[0m                 \u001b[0;32mreturn\u001b[0m \u001b[0mself\u001b[0m\u001b[0;34m[\u001b[0m\u001b[0mname\u001b[0m\u001b[0;34m]\u001b[0m\u001b[0;34m\u001b[0m\u001b[0;34m\u001b[0m\u001b[0m\n\u001b[0;32m-> 5141\u001b[0;31m             \u001b[0;32mreturn\u001b[0m \u001b[0mobject\u001b[0m\u001b[0;34m.\u001b[0m\u001b[0m__getattribute__\u001b[0m\u001b[0;34m(\u001b[0m\u001b[0mself\u001b[0m\u001b[0;34m,\u001b[0m \u001b[0mname\u001b[0m\u001b[0;34m)\u001b[0m\u001b[0;34m\u001b[0m\u001b[0;34m\u001b[0m\u001b[0m\n\u001b[0m\u001b[1;32m   5142\u001b[0m \u001b[0;34m\u001b[0m\u001b[0m\n\u001b[1;32m   5143\u001b[0m     \u001b[0;32mdef\u001b[0m \u001b[0m__setattr__\u001b[0m\u001b[0;34m(\u001b[0m\u001b[0mself\u001b[0m\u001b[0;34m,\u001b[0m \u001b[0mname\u001b[0m\u001b[0;34m:\u001b[0m \u001b[0mstr\u001b[0m\u001b[0;34m,\u001b[0m \u001b[0mvalue\u001b[0m\u001b[0;34m)\u001b[0m \u001b[0;34m->\u001b[0m \u001b[0;32mNone\u001b[0m\u001b[0;34m:\u001b[0m\u001b[0;34m\u001b[0m\u001b[0;34m\u001b[0m\u001b[0m\n",
            "\u001b[0;31mAttributeError\u001b[0m: 'DataFrame' object has no attribute 'category'"
          ]
        }
      ]
    }
  ]
}
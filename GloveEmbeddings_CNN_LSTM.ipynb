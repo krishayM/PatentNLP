{
  "nbformat": 4,
  "nbformat_minor": 5,
  "metadata": {
    "colab": {
      "name": "GloveEmbeddings-CNN-LSTM.ipynb",
      "provenance": [],
      "collapsed_sections": []
    },
    "kernelspec": {
      "display_name": "python38-demo-v2",
      "language": "python",
      "name": "python38-demo-v2"
    },
    "language_info": {
      "codemirror_mode": {
        "name": "ipython",
        "version": 3
      },
      "file_extension": ".py",
      "mimetype": "text/x-python",
      "name": "python",
      "nbconvert_exporter": "python",
      "pygments_lexer": "ipython3",
      "version": "3.9.4"
    }
  },
  "cells": [
    {
      "cell_type": "code",
      "metadata": {
        "id": "bd0f78cc"
      },
      "source": [
        "conda install -c conda-forge numpy=1.19.5"
      ],
      "id": "bd0f78cc",
      "execution_count": null,
      "outputs": []
    },
    {
      "cell_type": "code",
      "metadata": {
        "id": "09ab3bb9"
      },
      "source": [
        "import numpy as np"
      ],
      "id": "09ab3bb9",
      "execution_count": null,
      "outputs": []
    },
    {
      "cell_type": "code",
      "metadata": {
        "id": "75a6367e"
      },
      "source": [
        "np.version.version"
      ],
      "id": "75a6367e",
      "execution_count": null,
      "outputs": []
    },
    {
      "cell_type": "code",
      "metadata": {
        "id": "4ebf59aa"
      },
      "source": [
        "from tensorflow.keras.preprocessing.text import Tokenizer\n",
        "from tensorflow.keras.preprocessing.sequence import pad_sequences\n",
        "from tensorflow.keras.models import Sequential\n",
        "from tensorflow.keras.layers import Dense, Flatten, LSTM, Conv1D, MaxPooling1D, Dropout, Activation\n",
        "from tensorflow.keras.layers import Embedding"
      ],
      "id": "4ebf59aa",
      "execution_count": null,
      "outputs": []
    },
    {
      "cell_type": "code",
      "metadata": {
        "id": "19b53fa8"
      },
      "source": [
        "import numpy as np"
      ],
      "id": "19b53fa8",
      "execution_count": null,
      "outputs": []
    },
    {
      "cell_type": "code",
      "metadata": {
        "id": "1b8a37ea"
      },
      "source": [
        "# NLTK\n",
        "import nltk\n",
        "from nltk.corpus import stopwords\n",
        "from nltk.stem import SnowballStemmer\n",
        "\n",
        "# Other\n",
        "import re\n",
        "import string\n",
        "import numpy as np\n",
        "import pandas as pd\n",
        "from sklearn.manifold import TSNE"
      ],
      "id": "1b8a37ea",
      "execution_count": null,
      "outputs": []
    },
    {
      "cell_type": "code",
      "metadata": {
        "colab": {
          "base_uri": "https://localhost:8080/"
        },
        "id": "B-Y05lkdJC3m",
        "outputId": "0feff25c-7e25-4984-bec2-2ddf03d2cc2a"
      },
      "source": [
        "from google.colab import drive\n",
        "drive.mount('/content/drive')"
      ],
      "id": "B-Y05lkdJC3m",
      "execution_count": null,
      "outputs": [
        {
          "output_type": "stream",
          "text": [
            "Drive already mounted at /content/drive; to attempt to forcibly remount, call drive.mount(\"/content/drive\", force_remount=True).\n"
          ],
          "name": "stdout"
        }
      ]
    },
    {
      "cell_type": "code",
      "metadata": {
        "id": "1e9694e4"
      },
      "source": [
        "df = pd.read_csv('/content/drive/My Drive/IDAbstractKoganScore.csv', sep = ',', usecols = [0,1], error_bad_lines=False)"
      ],
      "id": "1e9694e4",
      "execution_count": null,
      "outputs": []
    },
    {
      "cell_type": "code",
      "metadata": {
        "id": "3c2d7448"
      },
      "source": [
        "df.head()"
      ],
      "id": "3c2d7448",
      "execution_count": null,
      "outputs": []
    },
    {
      "cell_type": "code",
      "metadata": {
        "id": "e0ac2945"
      },
      "source": [
        "df= df.dropna()"
      ],
      "id": "e0ac2945",
      "execution_count": null,
      "outputs": []
    },
    {
      "cell_type": "code",
      "metadata": {
        "colab": {
          "base_uri": "https://localhost:8080/",
          "height": 204
        },
        "id": "558a7fb7",
        "outputId": "bfe30084-c50c-43cb-871e-1cc56ee88765"
      },
      "source": [
        "df.head()"
      ],
      "id": "558a7fb7",
      "execution_count": null,
      "outputs": [
        {
          "output_type": "execute_result",
          "data": {
            "text/html": [
              "<div>\n",
              "<style scoped>\n",
              "    .dataframe tbody tr th:only-of-type {\n",
              "        vertical-align: middle;\n",
              "    }\n",
              "\n",
              "    .dataframe tbody tr th {\n",
              "        vertical-align: top;\n",
              "    }\n",
              "\n",
              "    .dataframe thead th {\n",
              "        text-align: right;\n",
              "    }\n",
              "</style>\n",
              "<table border=\"1\" class=\"dataframe\">\n",
              "  <thead>\n",
              "    <tr style=\"text-align: right;\">\n",
              "      <th></th>\n",
              "      <th>Kogan_Score</th>\n",
              "      <th>Text_Abstract</th>\n",
              "    </tr>\n",
              "  </thead>\n",
              "  <tbody>\n",
              "    <tr>\n",
              "      <th>0</th>\n",
              "      <td>1.616379</td>\n",
              "      <td>A method for fabricating a semiconductor diod...</td>\n",
              "    </tr>\n",
              "    <tr>\n",
              "      <th>1</th>\n",
              "      <td>0.501945</td>\n",
              "      <td>The invention is directed to a method of and ...</td>\n",
              "    </tr>\n",
              "    <tr>\n",
              "      <th>2</th>\n",
              "      <td>0.128938</td>\n",
              "      <td>A method and apparatus for end jointing timbe...</td>\n",
              "    </tr>\n",
              "    <tr>\n",
              "      <th>3</th>\n",
              "      <td>0.891540</td>\n",
              "      <td>A junction field effect transistor having a V ...</td>\n",
              "    </tr>\n",
              "    <tr>\n",
              "      <th>4</th>\n",
              "      <td>1.175692</td>\n",
              "      <td>A thermally and electrically conductive metal...</td>\n",
              "    </tr>\n",
              "  </tbody>\n",
              "</table>\n",
              "</div>"
            ],
            "text/plain": [
              "   Kogan_Score                                      Text_Abstract\n",
              "0     1.616379   A method for fabricating a semiconductor diod...\n",
              "1     0.501945   The invention is directed to a method of and ...\n",
              "2     0.128938   A method and apparatus for end jointing timbe...\n",
              "3     0.891540  A junction field effect transistor having a V ...\n",
              "4     1.175692   A thermally and electrically conductive metal..."
            ]
          },
          "metadata": {
            "tags": []
          },
          "execution_count": 10
        }
      ]
    },
    {
      "cell_type": "code",
      "metadata": {
        "id": "50f164d6"
      },
      "source": [
        "vocabulary_size = 285000"
      ],
      "id": "50f164d6",
      "execution_count": null,
      "outputs": []
    },
    {
      "cell_type": "code",
      "metadata": {
        "id": "haqxRfWxFbJ2"
      },
      "source": [
        "tokenizer = Tokenizer(num_words= vocabulary_size)\n",
        "tokenizer.fit_on_texts(df['Text_Abstract'])"
      ],
      "id": "haqxRfWxFbJ2",
      "execution_count": null,
      "outputs": []
    },
    {
      "cell_type": "code",
      "metadata": {
        "id": "ufhskk4JFdwY"
      },
      "source": [
        "sequences = tokenizer.texts_to_sequences(df['Text_Abstract'])\n",
        "data = pad_sequences(sequences, maxlen=250)"
      ],
      "id": "ufhskk4JFdwY",
      "execution_count": null,
      "outputs": []
    },
    {
      "cell_type": "code",
      "metadata": {
        "id": "DS5kMftfYDpI"
      },
      "source": [
        "import pickle\n",
        "\n",
        "# saving\n",
        "with open('/content/drive/My Drive/dataPaddedSequences.pickle', 'wb') as handle:\n",
        "    pickle.dump(data, handle, protocol=pickle.HIGHEST_PROTOCOL)"
      ],
      "id": "DS5kMftfYDpI",
      "execution_count": null,
      "outputs": []
    },
    {
      "cell_type": "code",
      "metadata": {
        "id": "9LxBQkTaYMtk"
      },
      "source": [
        "import pickle\n",
        "with open('/content/drive/My Drive/dataPaddedSequences.pickle', 'rb') as handle:\n",
        "    data = pickle.load(handle)"
      ],
      "id": "9LxBQkTaYMtk",
      "execution_count": null,
      "outputs": []
    },
    {
      "cell_type": "code",
      "metadata": {
        "id": "16758ac2"
      },
      "source": [
        "print(data.shape)"
      ],
      "id": "16758ac2",
      "execution_count": null,
      "outputs": []
    },
    {
      "cell_type": "code",
      "metadata": {
        "id": "9b36ec2b"
      },
      "source": [
        "embeddings_index = dict()\n",
        "f = open(r'/content/drive/My Drive/glove.6B.100d.txt', encoding=\"utf8\")\n",
        "for line in f:\n",
        "    values = line.split()\n",
        "    word = values[0]\n",
        "    coefs = np.asarray(values[1:], dtype='float32')\n",
        "    embeddings_index[word] = coefs\n",
        "f.close()\n",
        "print('Loaded %s word vectors.' % len(embeddings_index))"
      ],
      "id": "9b36ec2b",
      "execution_count": null,
      "outputs": []
    },
    {
      "cell_type": "code",
      "metadata": {
        "id": "b0cd2eae"
      },
      "source": [
        "# create a weight matrix for words in training docs\n",
        "embedding_matrix = np.zeros((vocabulary_size, 100))\n",
        "for word, index in tokenizer.word_index.items():\n",
        "    if index > vocabulary_size - 1:\n",
        "        break\n",
        "    else:\n",
        "        embedding_vector = embeddings_index.get(word)\n",
        "        if embedding_vector is not None:\n",
        "            embedding_matrix[index] = embedding_vector"
      ],
      "id": "b0cd2eae",
      "execution_count": null,
      "outputs": []
    },
    {
      "cell_type": "code",
      "metadata": {
        "id": "4eddafb6"
      },
      "source": [
        "labels = df['Kogan_Score']"
      ],
      "id": "4eddafb6",
      "execution_count": null,
      "outputs": []
    },
    {
      "cell_type": "code",
      "metadata": {
        "id": "431afe50"
      },
      "source": [
        "model_glove = Sequential()\n",
        "model_glove.add(Embedding(vocabulary_size, 100, input_length=250, weights=[embedding_matrix], trainable=False))\n",
        "model_glove.add(Dropout(0.5))\n",
        "model_glove.add(Conv1D(64, 5, activation='relu'))\n",
        "model_glove.add(MaxPooling1D(pool_size=4))\n",
        "model_glove.add(LSTM(256))\n",
        "model_glove.add(Dense(256, activation='relu'))\n",
        "model_glove.compile(loss='mae', optimizer='adam', metrics=['mse', 'mae', 'accuracy'])"
      ],
      "id": "431afe50",
      "execution_count": null,
      "outputs": []
    },
    {
      "cell_type": "code",
      "metadata": {
        "id": "nqT6KTDCJd2Z"
      },
      "source": [
        "# checkpoint\n",
        "from keras.callbacks import ModelCheckpoint\n",
        "path_begin = \"/content/drive/My Drive/\"\n",
        "filepath= path_begin + \"weights-improvement-{epoch:02d}-{val_accuracy:.2f}.hdf5\"\n",
        "checkpoint = ModelCheckpoint(filepath, monitor='val_acc', verbose=1, save_best_only=False, save_weights_only=False, mode='auto', save_freq=1)\n",
        "callbacks_list = [checkpoint]"
      ],
      "id": "nqT6KTDCJd2Z",
      "execution_count": null,
      "outputs": []
    },
    {
      "cell_type": "code",
      "metadata": {
        "colab": {
          "background_save": true,
          "base_uri": "https://localhost:8080/"
        },
        "id": "f71dfcb5",
        "outputId": "0f84bb5c-83c9-4577-c1f0-3a735aec923b"
      },
      "source": [
        "model_glove.fit(data, np.array(labels), validation_split=0.4, epochs = 2)\n",
        "model_glove.save_weights('/content/drive/My Drive/model_glove_2epochs_pretransfer.h5')"
      ],
      "id": "f71dfcb5",
      "execution_count": null,
      "outputs": [
        {
          "output_type": "stream",
          "text": [
            "Epoch 1/60\n",
            "38802/38802 [==============================] - 12817s 330ms/step - loss: 11.5474 - mse: 1695.3823 - mae: 11.5474 - accuracy: 0.0000e+00 - val_loss: 7.7725 - val_mse: 616.1454 - val_mae: 7.7725 - val_accuracy: 0.0000e+00\n",
            "Epoch 2/60\n",
            "23913/38802 [=================>............] - ETA: 1:12:32 - loss: 11.3771 - mse: 1694.6664 - mae: 11.3771 - accuracy: 0.0000e+00"
          ],
          "name": "stdout"
        }
      ]
    },
    {
      "cell_type": "code",
      "metadata": {
        "id": "1xHT2nmW5Ei1"
      },
      "source": [
        "model_glove_transfer = Sequential()\n",
        "model_glove_transfer.add(Embedding(vocabulary_size, 100, input_length=250, weights=[embedding_matrix], trainable=False))\n",
        "model_glove_transfer.add(Dropout(0.5))\n",
        "model_glove_transfer.add(Conv1D(64, 5, activation='relu'))\n",
        "model_glove_transfer.add(MaxPooling1D(pool_size=4))\n",
        "model_glove_transfer.add(LSTM(256))\n",
        "model_glove_transfer.add(Dense(256, activation='relu'))"
      ],
      "id": "1xHT2nmW5Ei1",
      "execution_count": null,
      "outputs": []
    },
    {
      "cell_type": "code",
      "metadata": {
        "id": "aLqC9GVdHFrc"
      },
      "source": [
        "weights_list = model_glove.get_weights()\n",
        "for i, weights in enumerate(weights_list[0:len(weights_list)]):\n",
        "    model_glove_transfer.layers[i].set_weights(weights)"
      ],
      "id": "aLqC9GVdHFrc",
      "execution_count": null,
      "outputs": []
    },
    {
      "cell_type": "code",
      "metadata": {
        "id": "iJr5t_Q5HIeV"
      },
      "source": [
        "model_glove_transfer.compile(loss='mae', optimizer='adam', metrics=['mse', 'mae', 'accuracy'])\n",
        "model_glove.fit(data, np.array(labels), validation_split=0.15, epochs = 25)"
      ],
      "id": "iJr5t_Q5HIeV",
      "execution_count": null,
      "outputs": []
    }
  ]
}